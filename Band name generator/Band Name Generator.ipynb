{
 "cells": [
  {
   "cell_type": "code",
   "execution_count": 7,
   "id": "a0071ae0",
   "metadata": {},
   "outputs": [
    {
     "name": "stdout",
     "output_type": "stream",
     "text": [
      "Welcome to the Band Name Generator \n",
      "What is the Name of the City you were Born?\n",
      "kathmandu\n",
      "What is the Name of your Pet or your Nickname?\n",
      "shyam\n",
      "The Name of your Band could be: kathmandu shyam\n"
     ]
    }
   ],
   "source": [
    "#Band Name Generator Project\n",
    "\n",
    "print(\"Welcome to the Band Name Generator \")\n",
    "City= input(\"What is the Name of the City you were Born?\\n\")\n",
    "Pet_or_Nickname=input(\"What is the Name of your Pet or your Nickname?\\n\")\n",
    "print(\"The Name of your Band could be: \" + City + \" \" + Pet_or_Nickname)\n"
   ]
  },
  {
   "cell_type": "code",
   "execution_count": null,
   "id": "f2becd27",
   "metadata": {},
   "outputs": [],
   "source": []
  }
 ],
 "metadata": {
  "kernelspec": {
   "display_name": "Python 3 (ipykernel)",
   "language": "python",
   "name": "python3"
  },
  "language_info": {
   "codemirror_mode": {
    "name": "ipython",
    "version": 3
   },
   "file_extension": ".py",
   "mimetype": "text/x-python",
   "name": "python",
   "nbconvert_exporter": "python",
   "pygments_lexer": "ipython3",
   "version": "3.9.12"
  }
 },
 "nbformat": 4,
 "nbformat_minor": 5
}
