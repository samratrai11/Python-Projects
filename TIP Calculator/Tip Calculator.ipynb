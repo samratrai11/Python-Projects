{
 "cells": [
  {
   "cell_type": "code",
   "execution_count": 1,
   "id": "f06b26a4",
   "metadata": {},
   "outputs": [
    {
     "name": "stdout",
     "output_type": "stream",
     "text": [
      "Brace yourselves the Tip Calculator! :)\n",
      "How much is the bill?£150\n",
      "How much would you like to tip?5, 10, 15 12\n",
      "How many people are splitting the bill 4\n",
      "Each person has to pay £42.00\n"
     ]
    }
   ],
   "source": [
    "# Tip Calculator\n",
    "\n",
    "print(\"Brace yourselves the Tip Calculator! :)\")\n",
    "\n",
    "bill=float(input(\"How much is the bill?£\"))\n",
    "tip=input(\"How much would you like to tip?5, 10, 15 \")\n",
    "split=float(input(\"How many people are splitting the bill \"))\n",
    "\n",
    "tip_percent= float(tip)/100\n",
    "total_tip=float(bill)*float(tip_percent)\n",
    "total_bill=bill+total_tip\n",
    "bill_split=total_bill/split\n",
    "\n",
    "final_amount=round(bill_split,2)\n",
    "final_amount=\"{:.2f}\".format(bill_split)\n",
    "\n",
    "print(f\"Each person has to pay £{final_amount}\")"
   ]
  },
  {
   "cell_type": "code",
   "execution_count": null,
   "id": "41ca2811",
   "metadata": {},
   "outputs": [],
   "source": []
  }
 ],
 "metadata": {
  "kernelspec": {
   "display_name": "Python 3 (ipykernel)",
   "language": "python",
   "name": "python3"
  },
  "language_info": {
   "codemirror_mode": {
    "name": "ipython",
    "version": 3
   },
   "file_extension": ".py",
   "mimetype": "text/x-python",
   "name": "python",
   "nbconvert_exporter": "python",
   "pygments_lexer": "ipython3",
   "version": "3.9.12"
  }
 },
 "nbformat": 4,
 "nbformat_minor": 5
}
